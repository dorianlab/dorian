{
 "cells": [
  {
   "cell_type": "markdown",
   "metadata": {
    "collapsed": true
   },
   "source": [
    "# Advanced attributes\n",
    "\n",
    "ReGraph implements a collection of data structures for representation of potentially infinite sets of attribute values, together with all the default set operations on them (such as union, intersection, inclusion test etc.):\n",
    "\n",
    "    FiniteSet – wrapper for Python finite sets.\n",
    "    RegexSet – a class for possibly infinite sets of strings given by regular expressions.\n",
    "    IntegerSet – a class for possibly infinite sets of integers defined by a set of disjoint intervals.\n"
   ]
  },
  {
   "cell_type": "code",
   "execution_count": 1,
   "metadata": {},
   "outputs": [],
   "source": [
    "from math import inf\n",
    "\n",
    "import regraph.attribute_sets as atsets"
   ]
  },
  {
   "cell_type": "markdown",
   "metadata": {},
   "source": [
    "Define an infinite integer set:"
   ]
  },
  {
   "cell_type": "code",
   "execution_count": 2,
   "metadata": {},
   "outputs": [],
   "source": [
    "ints = atsets.IntegerSet({(0, 8), (11, inf)})"
   ]
  },
  {
   "cell_type": "markdown",
   "metadata": {},
   "source": [
    "Test if interger value is in the set:"
   ]
  },
  {
   "cell_type": "code",
   "execution_count": 3,
   "metadata": {},
   "outputs": [
    {
     "name": "stdout",
     "output_type": "stream",
     "text": [
      "True\n",
      "False\n"
     ]
    }
   ],
   "source": [
    "print(ints.contains(5))\n",
    "print(ints.contains(9))"
   ]
  },
  {
   "cell_type": "markdown",
   "metadata": {},
   "source": [
    "Test if another integer set is a subset:"
   ]
  },
  {
   "cell_type": "code",
   "execution_count": 4,
   "metadata": {},
   "outputs": [
    {
     "name": "stdout",
     "output_type": "stream",
     "text": [
      "True\n",
      "False\n"
     ]
    }
   ],
   "source": [
    "a = atsets.IntegerSet({(0, 3), (20, 30)})\n",
    "print(a.issubset(ints))\n",
    "\n",
    "b = atsets.IntegerSet({(0, 10)})\n",
    "print(b.issubset(ints))"
   ]
  },
  {
   "cell_type": "markdown",
   "metadata": {},
   "source": [
    "Find the intersection of two `IntegerSet` objects:"
   ]
  },
  {
   "cell_type": "code",
   "execution_count": 5,
   "metadata": {},
   "outputs": [
    {
     "name": "stdout",
     "output_type": "stream",
     "text": [
      "[0, 3], [20, 30]\n",
      "[0, 8]\n"
     ]
    }
   ],
   "source": [
    "a_and_ints = a.intersection(ints)\n",
    "print(a_and_ints)\n",
    "\n",
    "b_and_ints = b.intersection(ints)\n",
    "print(b_and_ints)"
   ]
  },
  {
   "cell_type": "markdown",
   "metadata": {},
   "source": [
    "Find the union of two `IntegerSet` objects:"
   ]
  },
  {
   "cell_type": "code",
   "execution_count": 6,
   "metadata": {},
   "outputs": [
    {
     "name": "stdout",
     "output_type": "stream",
     "text": [
      "[0, 8], [11, inf]\n",
      "[0, inf]\n"
     ]
    }
   ],
   "source": [
    "a_or_ints = a.union(ints)\n",
    "print(a_or_ints)\n",
    "\n",
    "b_or_ints = b.union(ints)\n",
    "print(b_or_ints)"
   ]
  },
  {
   "cell_type": "markdown",
   "metadata": {},
   "source": [
    "We can also find unions and intersections of integer sets with ordinary Python sets, as long as these sets contain integer values:"
   ]
  },
  {
   "cell_type": "code",
   "execution_count": 7,
   "metadata": {},
   "outputs": [
    {
     "name": "stdout",
     "output_type": "stream",
     "text": [
      "[0, 3], [20, 30]\n"
     ]
    }
   ],
   "source": [
    "a.union({13, 14})\n",
    "print(a)"
   ]
  },
  {
   "cell_type": "markdown",
   "metadata": {},
   "source": [
    "The following line of code with cause the `AttributeSetError` exception:"
   ]
  },
  {
   "cell_type": "code",
   "execution_count": 8,
   "metadata": {},
   "outputs": [
    {
     "name": "stdout",
     "output_type": "stream",
     "text": [
      "Error message:  Set '{'a', 13, 14}' contains non-integer element 'a'\n",
      "Type:  <class 'regraph.exceptions.AttributeSetError'>\n"
     ]
    }
   ],
   "source": [
    "try:\n",
    "    a.union({13, 14, \"a\"})\n",
    "except Exception as e:\n",
    "    print(\"Error message: \", e)\n",
    "    print(\"Type: \", type(e))"
   ]
  },
  {
   "cell_type": "markdown",
   "metadata": {},
   "source": [
    "Now, define objects of `RegexSet`:"
   ]
  },
  {
   "cell_type": "code",
   "execution_count": 9,
   "metadata": {},
   "outputs": [],
   "source": [
    "words = atsets.RegexSet(\"[A-Za-z]+\")\n",
    "integers = atsets.RegexSet(\"\\d+\")\n",
    "alphanums = atsets.RegexSet(\"[A-Za-z\\d]+\")"
   ]
  },
  {
   "cell_type": "markdown",
   "metadata": {},
   "source": [
    "Test if strings are matched by regex's defining our `RegexSet` objects:"
   ]
  },
  {
   "cell_type": "code",
   "execution_count": 10,
   "metadata": {},
   "outputs": [
    {
     "name": "stdout",
     "output_type": "stream",
     "text": [
      "False\n",
      "True\n",
      "True\n",
      "False\n"
     ]
    }
   ],
   "source": [
    "print(words.match(\"42\"))\n",
    "print(integers.match(\"42\"))\n",
    "print(words.match(\"hello\"))\n",
    "print(integers.match(\"hello\"))"
   ]
  },
  {
   "cell_type": "markdown",
   "metadata": {},
   "source": [
    "Test if one regex set is a subset of another:"
   ]
  },
  {
   "cell_type": "code",
   "execution_count": 11,
   "metadata": {},
   "outputs": [
    {
     "name": "stdout",
     "output_type": "stream",
     "text": [
      "False\n",
      "True\n"
     ]
    }
   ],
   "source": [
    "print(integers.issubset(words))\n",
    "print(integers.issubset(alphanums))"
   ]
  },
  {
   "cell_type": "markdown",
   "metadata": {},
   "source": [
    "Find the intersection of two regex sets:"
   ]
  },
  {
   "cell_type": "code",
   "execution_count": 12,
   "metadata": {},
   "outputs": [
    {
     "name": "stdout",
     "output_type": "stream",
     "text": [
      "[]\n",
      "\\d+\n"
     ]
    }
   ],
   "source": [
    "print(integers.intersection(words))\n",
    "print(integers.intersection(alphanums))"
   ]
  },
  {
   "cell_type": "markdown",
   "metadata": {},
   "source": [
    "Find the union of two regex sets:"
   ]
  },
  {
   "cell_type": "code",
   "execution_count": 13,
   "metadata": {},
   "outputs": [
    {
     "name": "stdout",
     "output_type": "stream",
     "text": [
      "\\d+|[A-Za-z]+\n"
     ]
    }
   ],
   "source": [
    "print(integers.union(words))"
   ]
  },
  {
   "cell_type": "markdown",
   "metadata": {},
   "source": [
    "Subtract a finite set of strings from a regex set:"
   ]
  },
  {
   "cell_type": "code",
   "execution_count": 14,
   "metadata": {},
   "outputs": [
    {
     "name": "stdout",
     "output_type": "stream",
     "text": [
      "([A-Zac-gi-z]|b([A-Za-xz]|y([A-Za-df-z]|e[A-Za-z]))|h([A-Za-hj-z]|i[A-Za-z]))[A-Za-z]*|by?|h\n"
     ]
    }
   ],
   "source": [
    "print(words.difference({\"hi\", \"bye\"}))"
   ]
  },
  {
   "cell_type": "markdown",
   "metadata": {},
   "source": [
    "The result may be not extremely readable, but we can test it in the following way:"
   ]
  },
  {
   "cell_type": "code",
   "execution_count": 15,
   "metadata": {},
   "outputs": [
    {
     "name": "stdout",
     "output_type": "stream",
     "text": [
      "False\n",
      "False\n",
      "True\n"
     ]
    }
   ],
   "source": [
    "no_hi_bye = words.difference({\"hi\", \"bye\"})\n",
    "print(no_hi_bye.match(\"hi\"))\n",
    "print(no_hi_bye.match(\"bye\"))\n",
    "print(no_hi_bye.match(\"afternoon\"))"
   ]
  },
  {
   "cell_type": "markdown",
   "metadata": {},
   "source": [
    "Now, we can also wrap Python set objects into `FiniteSet` class provided in ReGraph."
   ]
  },
  {
   "cell_type": "code",
   "execution_count": 16,
   "metadata": {},
   "outputs": [],
   "source": [
    "a = atsets.FiniteSet({1, 2, 3})"
   ]
  },
  {
   "cell_type": "markdown",
   "metadata": {},
   "source": [
    "It allows us to apply to them any set operations from the common interface of ReGraph’s attribute sets. For example:"
   ]
  },
  {
   "cell_type": "code",
   "execution_count": 17,
   "metadata": {},
   "outputs": [
    {
     "name": "stdout",
     "output_type": "stream",
     "text": [
      "True\n",
      "True\n"
     ]
    }
   ],
   "source": [
    "int_regex = atsets.RegexSet(\"\\d+\")\n",
    "positive_integers = atsets.IntegerSet([(0, inf)])\n",
    "print(a.issubset(int_regex))\n",
    "print(a.issubset(positive_integers))"
   ]
  },
  {
   "cell_type": "markdown",
   "metadata": {},
   "source": [
    "ReGraph provides two special classes of attribute sets: `UniversalSet` and `EmptySet`, which in their essence are static classes. These classes contain all standard set theoretic operations and follow the common interface defined in the base class `AttributeSet` (as all previously presented attribute set classes). Consider a couple of examples illustrating the behaviour of `UniversalSet` and `EmptySet`:"
   ]
  },
  {
   "cell_type": "code",
   "execution_count": 18,
   "metadata": {},
   "outputs": [
    {
     "name": "stdout",
     "output_type": "stream",
     "text": [
      "UniversalSet\n",
      "EmptySet\n"
     ]
    }
   ],
   "source": [
    "univ = atsets.UniversalSet()\n",
    "empty = atsets.EmptySet()\n",
    "print(univ.union(empty))\n",
    "print(univ.intersection(empty))"
   ]
  },
  {
   "cell_type": "code",
   "execution_count": 19,
   "metadata": {},
   "outputs": [
    {
     "name": "stdout",
     "output_type": "stream",
     "text": [
      "True\n",
      "False\n",
      "{1, 2, 3}\n",
      "UniversalSet\n"
     ]
    }
   ],
   "source": [
    "a = atsets.FiniteSet({1, 2, 3})\n",
    "print(a.issubset(univ))\n",
    "print(a.issubset(empty))\n",
    "print(univ.intersection(a))\n",
    "print(univ.union(a))"
   ]
  }
 ],
 "metadata": {
  "kernelspec": {
   "display_name": "Python 3",
   "language": "python",
   "name": "python3"
  },
  "language_info": {
   "codemirror_mode": {
    "name": "ipython",
    "version": 3
   },
   "file_extension": ".py",
   "mimetype": "text/x-python",
   "name": "python",
   "nbconvert_exporter": "python",
   "pygments_lexer": "ipython3",
   "version": "3.7.4"
  }
 },
 "nbformat": 4,
 "nbformat_minor": 2
}
