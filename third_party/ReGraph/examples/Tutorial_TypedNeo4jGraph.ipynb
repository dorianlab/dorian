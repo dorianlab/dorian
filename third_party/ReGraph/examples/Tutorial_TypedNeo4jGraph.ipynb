{
 "cells": [
  {
   "cell_type": "markdown",
   "metadata": {
    "collapsed": true
   },
   "source": [
    "# Rewriting schema-aware PGs through TypedNeo4jGraph\n",
    "\n"
   ]
  },
  {
   "cell_type": "code",
   "execution_count": 1,
   "metadata": {},
   "outputs": [],
   "source": [
    "from regraph import NXGraph, TypedNeo4jGraph, Rule\n",
    "from regraph.attribute_sets import IntegerSet, RegexSet\n",
    "from regraph import plot_rule\n",
    "\n",
    "import json"
   ]
  },
  {
   "cell_type": "code",
   "execution_count": 2,
   "metadata": {},
   "outputs": [],
   "source": [
    "%matplotlib inline"
   ]
  },
  {
   "cell_type": "markdown",
   "metadata": {},
   "source": [
    "### 1. Creating and modifying a schema-aware graph object"
   ]
  },
  {
   "cell_type": "code",
   "execution_count": 3,
   "metadata": {},
   "outputs": [],
   "source": [
    "# Define schema graph elements\n",
    "schema_nodes = [\n",
    "    (\"Person\", {\"age\": IntegerSet.universal()}),\n",
    "    (\"Organization\", {\"location\": RegexSet.universal()})]\n",
    "schema_edges = [\n",
    "    (\"Person\", \"Person\", {\"type\": {\"friend\", \"parent\", \"colleague\"}}),\n",
    "    (\"Organization\", \"Organization\"),\n",
    "    (\"Person\", \"Organization\", {\"type\": {\"works_in\", \"studies_in\"}})\n",
    "]\n",
    "\n",
    "# Define data graph elements\n",
    "data_nodes = [\n",
    "    (\"Alice\", {\"age\": 15}),\n",
    "    (\"Bob\"),\n",
    "    (\"Eric\", {\"age\": 45}),\n",
    "    (\"Sandra\", {\"age\": 47}),\n",
    "    (\"ENS Lyon\", {\"location\": \"Lyon\"}),\n",
    "    (\"UN\", {\"location\": \"Geneva\"}),\n",
    "    (\"INTERPOL\", {\"location\": \"Lyon\"})\n",
    "]\n",
    "data_edges = [\n",
    "    (\"Alice\", \"Bob\", {\"type\": \"friend\"}),\n",
    "    (\"Bob\", \"Alice\", {\"type\": \"friend\"}),\n",
    "    (\"Sandra\", \"Eric\", {\"type\": \"friend\"}),\n",
    "    (\"Sandra\", \"Bob\", {\"type\": \"parent\"}),\n",
    "    (\"Eric\", \"Alice\", {\"type\": \"parent\"}),\n",
    "    (\"Eric\", \"UN\"),\n",
    "    (\"Eric\", \"Sandra\", {\"type\": \"colleague\"})\n",
    "]\n",
    "\n",
    "# Provide typing of the data by the schema\n",
    "data_typing = {\n",
    "    \"Alice\": \"Person\",\n",
    "    \"Bob\": \"Person\",\n",
    "    \"Eric\": \"Person\",\n",
    "    \"Sandra\": \"Person\",\n",
    "    \"ENS Lyon\": \"Organization\",\n",
    "    \"UN\": \"Organization\",\n",
    "    \"INTERPOL\": \"Organization\"\n",
    "}"
   ]
  },
  {
   "cell_type": "code",
   "execution_count": 4,
   "metadata": {},
   "outputs": [],
   "source": [
    "# Create a schema-aware PG (clear the db if already exists)\n",
    "graph = TypedNeo4jGraph(\n",
    "    uri=\"bolt://localhost:7687\",\n",
    "    user=\"neo4j\",\n",
    "    password=\"admin\",\n",
    "    data_graph={\"nodes\": data_nodes, \"edges\": data_edges},\n",
    "    schema_graph={\"nodes\": schema_nodes, \"edges\": schema_edges},\n",
    "    typing=data_typing,\n",
    "    clear=True)"
   ]
  },
  {
   "cell_type": "code",
   "execution_count": 5,
   "metadata": {},
   "outputs": [
    {
     "name": "stdout",
     "output_type": "stream",
     "text": [
      "Schema object:  <class 'regraph.backends.neo4j.graphs.Neo4jGraph'>\n",
      "Schema nodes:  ['Person', 'Organization']\n",
      "Schema edges:  [('Person', 'Organization'), ('Person', 'Person'), ('Organization', 'Organization')]\n",
      "\n",
      "Data object:  <class 'regraph.backends.neo4j.graphs.Neo4jGraph'>\n",
      "Data nodes:  ['Alice', 'Bob', 'Eric', 'Sandra', 'ENS Lyon', 'UN', 'INTERPOL']\n",
      "Data edges:  [('Alice', 'Bob'), ('Bob', 'Alice'), ('Eric', 'Sandra'), ('Eric', 'UN'), ('Eric', 'Alice'), ('Sandra', 'Bob'), ('Sandra', 'Eric')]\n",
      "\n",
      "Data typing: {\n",
      "   \"Eric\": \"Person\",\n",
      "   \"Bob\": \"Person\",\n",
      "   \"Sandra\": \"Person\",\n",
      "   \"Alice\": \"Person\",\n",
      "   \"ENS Lyon\": \"Organization\",\n",
      "   \"UN\": \"Organization\",\n",
      "   \"INTERPOL\": \"Organization\"\n",
      "}\n"
     ]
    }
   ],
   "source": [
    "print(\"Schema object: \", type(graph.get_schema()))\n",
    "print(\"Schema nodes: \", graph.get_schema_nodes())\n",
    "print(\"Schema edges: \", graph.get_schema_edges())\n",
    "\n",
    "print(\"\\nData object: \", type(graph.get_data()))\n",
    "print(\"Data nodes: \", graph.get_data_nodes())\n",
    "print(\"Data edges: \", graph.get_data_edges())\n",
    "\n",
    "print(\"\\nData typing:\", json.dumps(graph.get_data_typing(), indent=\"   \"))"
   ]
  },
  {
   "cell_type": "markdown",
   "metadata": {},
   "source": [
    "### 2. Rewriting schema-aware graphs\n",
    "\n",
    "ReGraph implements the rewriting technique called `sesqui-pushout rewriting` that allows to transform graphs by applying rules through their instances (matchings). Rewriting of the data or the schema may require an update to the other graph, such updates are called _propagation_ and are distinguished into two types: _backward_ and _forward_ propagation.\n",
    "\n",
    "_Backward propagation briefly_: \n",
    "- If some graph elements (nodes/edges or attributes) are removed from the schema, then all the respective elements that are typed by them in the data **should** be removed.\n",
    "- If a graph node is cloned in the schema, then for every instance of this node in the data we either: (a) specify to which clone it corresponds or (b) clone it.\n",
    "\n",
    "_Forward propagation briefly_: \n",
    "- If some data nodes are merged and these nodes are typed by different nodes in the schema, the corresponding schema nodes **should** be merged.\n",
    "- If a new graph element (node/edge or attribute) is added to the data, then we either (a) select an existing element to type the added element by the schema or (b) add a new element to the schema to type the added element.\n",
    "\n",
    "For more details, please see [here](https://link.springer.com/chapter/10.1007/978-3-030-23611-3_9).\n",
    "\n",
    "ReGraph allows to rewrite schema-aware PGs and their schemas using the methods `rewrite_data` and `rewrite_schema` of `TypedNeo4jGraph`. The rewriting can be done in two modes:\n",
    "\n",
    "1. _Strict rewriting_ rewriting that does not allow propagation.\n",
    "\n",
    "2. _Not strict rewriting_ that allows propagation."
   ]
  },
  {
   "cell_type": "markdown",
   "metadata": {},
   "source": [
    "#### 2.1. Strict rewriting "
   ]
  },
  {
   "cell_type": "markdown",
   "metadata": {},
   "source": [
    "`TypedNeo4jGraph` implements a set of methods that perform transformations of both data and schema that do not require propagation. Conider the following examples."
   ]
  },
  {
   "cell_type": "code",
   "execution_count": 6,
   "metadata": {},
   "outputs": [],
   "source": [
    "graph.add_schema_node(\"Country\", {\"location\": RegexSet.universal()})\n",
    "graph.add_schema_edge(\"Organization\", \"Country\", {\"type\": {\"located_in\"}})"
   ]
  },
  {
   "cell_type": "code",
   "execution_count": 7,
   "metadata": {},
   "outputs": [
    {
     "name": "stdout",
     "output_type": "stream",
     "text": [
      "Schema nodes:  ['Person', 'Organization', 'Country']\n",
      "Schema edges:  [('Person', 'Organization'), ('Person', 'Person'), ('Organization', 'Country'), ('Organization', 'Organization')]\n"
     ]
    }
   ],
   "source": [
    "print(\"Schema nodes: \", graph.get_schema_nodes())\n",
    "print(\"Schema edges: \", graph.get_schema_edges())"
   ]
  },
  {
   "cell_type": "code",
   "execution_count": 8,
   "metadata": {},
   "outputs": [],
   "source": [
    "graph.add_data_node(\"France\", typing=\"Country\", attrs={\"location\": \"Europe\"})\n",
    "graph.add_data_edge(\"INTERPOL\", \"France\", {\"type\": \"located_in\"})"
   ]
  },
  {
   "cell_type": "code",
   "execution_count": 9,
   "metadata": {},
   "outputs": [
    {
     "name": "stdout",
     "output_type": "stream",
     "text": [
      "Data nodes:  ['Alice', 'Bob', 'Eric', 'Sandra', 'ENS Lyon', 'UN', 'INTERPOL', 'France']\n",
      "Data edges:  [('Alice', 'Bob'), ('Bob', 'Alice'), ('Eric', 'Sandra'), ('Eric', 'UN'), ('Eric', 'Alice'), ('Sandra', 'Bob'), ('Sandra', 'Eric'), ('INTERPOL', 'France')]\n"
     ]
    }
   ],
   "source": [
    "print(\"Data nodes: \", graph.get_data_nodes())\n",
    "print(\"Data edges: \", graph.get_data_edges())"
   ]
  },
  {
   "cell_type": "markdown",
   "metadata": {},
   "source": [
    "We will now create a rule that applied to the schema and that clones the node `Organization` into two nodes."
   ]
  },
  {
   "cell_type": "code",
   "execution_count": 10,
   "metadata": {},
   "outputs": [
    {
     "data": {
      "image/png": "[encoded data removed]",
      "text/plain": [
       "<Figure size 1008x216 with 3 Axes>"
      ]
     },
     "metadata": {},
     "output_type": "display_data"
    }
   ],
   "source": [
    "lhs = NXGraph()\n",
    "lhs.add_nodes_from([\"Organization\"])\n",
    "\n",
    "rule = Rule.from_transform(lhs)\n",
    "_, rhs_clone = rule.inject_clone_node(\"Organization\")\n",
    "plot_rule(rule)"
   ]
  },
  {
   "cell_type": "code",
   "execution_count": 11,
   "metadata": {},
   "outputs": [],
   "source": [
    "instance = {\n",
    "    \"Organization\": \"Organization\"\n",
    "}"
   ]
  },
  {
   "cell_type": "markdown",
   "metadata": {},
   "source": [
    "We try to apply the created rule to the graph `T` in the strict mode."
   ]
  },
  {
   "cell_type": "code",
   "execution_count": 12,
   "metadata": {},
   "outputs": [
    {
     "name": "stdout",
     "output_type": "stream",
     "text": [
      "Error message:  Rewriting is strict (no propagation of clones is allowed), the cloned node 'Organization' in 'type' has instances '['ENS Lyon', 'UN', 'INTERPOL']' in 'node' and their typing by P is not specified\n",
      "Type:  <class 'regraph.exceptions.RewritingError'>\n"
     ]
    }
   ],
   "source": [
    "try:\n",
    "    rhs_instance = graph.rewrite_schema(rule, strict=True)\n",
    "except Exception as e:\n",
    "    print(\"Error message: \", e)\n",
    "    print(\"Type: \", type(e))"
   ]
  },
  {
   "cell_type": "markdown",
   "metadata": {},
   "source": [
    "We have failed to rewrite the schema, because we have not specified typing for instances of `Organization` in $p$. Let us try again, but this time we will prove such typing."
   ]
  },
  {
   "cell_type": "code",
   "execution_count": 13,
   "metadata": {},
   "outputs": [],
   "source": [
    "data_typing = {\n",
    "    'ENS Lyon': rhs_clone,\n",
    "    'UN': \"Organization\",\n",
    "    'INTERPOL': 'Organization'\n",
    "}"
   ]
  },
  {
   "cell_type": "code",
   "execution_count": 14,
   "metadata": {},
   "outputs": [],
   "source": [
    "rhs_instance = graph.rewrite_schema(rule, data_typing=data_typing, strict=True)"
   ]
  },
  {
   "cell_type": "code",
   "execution_count": 15,
   "metadata": {
    "scrolled": true
   },
   "outputs": [
    {
     "name": "stdout",
     "output_type": "stream",
     "text": [
      "Instance of the RHS in G {'Organization': 'Organization1', 'Organization1': 'Organization'}\n"
     ]
    }
   ],
   "source": [
    "print(\"Instance of the RHS in G\", rhs_instance)"
   ]
  },
  {
   "cell_type": "markdown",
   "metadata": {},
   "source": [
    "Let us relabel nodes in `T`."
   ]
  },
  {
   "cell_type": "code",
   "execution_count": 16,
   "metadata": {},
   "outputs": [],
   "source": [
    "graph.relabel_schema_node(rhs_instance[rhs_clone], 'University')\n",
    "graph.relabel_schema_node(rhs_instance[\"Organization\"], \"International_Organization\")"
   ]
  },
  {
   "cell_type": "code",
   "execution_count": 17,
   "metadata": {},
   "outputs": [
    {
     "name": "stdout",
     "output_type": "stream",
     "text": [
      "{\n",
      "   \"Eric\": \"Person\",\n",
      "   \"Bob\": \"Person\",\n",
      "   \"Sandra\": \"Person\",\n",
      "   \"Alice\": \"Person\",\n",
      "   \"ENS Lyon\": \"University\",\n",
      "   \"France\": \"Country\",\n",
      "   \"UN\": \"International_Organization\",\n",
      "   \"INTERPOL\": \"International_Organization\"\n",
      "}\n"
     ]
    }
   ],
   "source": [
    "print(json.dumps(graph.get_data_typing(), indent=\"   \"))"
   ]
  },
  {
   "cell_type": "markdown",
   "metadata": {},
   "source": [
    "#### 2.2. Rewriting and propagation\n",
    "\n",
    "We now show how graph rewriting that requires propagation can be performed in such schema-aware PG. "
   ]
  },
  {
   "cell_type": "markdown",
   "metadata": {},
   "source": [
    "Let us first consider a small example of _forward propagation_. We will create a rule that performs some additions of new nodes not typed  by schema."
   ]
  },
  {
   "cell_type": "code",
   "execution_count": 18,
   "metadata": {
    "scrolled": true
   },
   "outputs": [
    {
     "name": "stderr",
     "output_type": "stream",
     "text": [
      "/home/raimon/anaconda3/lib/python3.7/site-packages/networkx/drawing/nx_pylab.py:579: MatplotlibDeprecationWarning: \n",
      "The iterable function was deprecated in Matplotlib 3.1 and will be removed in 3.3. Use np.iterable instead.\n",
      "  if not cb.iterable(width):\n",
      "/home/raimon/anaconda3/lib/python3.7/site-packages/networkx/drawing/nx_pylab.py:676: MatplotlibDeprecationWarning: \n",
      "The iterable function was deprecated in Matplotlib 3.1 and will be removed in 3.3. Use np.iterable instead.\n",
      "  if cb.iterable(node_size):  # many node sizes\n"
     ]
    },
    {
     "data": {
      "image/png": "[encoded data removed]",
      "text/plain": [
       "<Figure size 1008x216 with 3 Axes>"
      ]
     },
     "metadata": {},
     "output_type": "display_data"
    }
   ],
   "source": [
    "pattern = NXGraph()\n",
    "pattern.add_nodes_from([\"a\", \"b\", \"c\"])\n",
    "pattern.add_edges_from([\n",
    "        (\"a\", \"b\", {\"type\": \"colleague\"}),\n",
    "        (\"a\", \"c\")\n",
    "    ])\n",
    "\n",
    "rule = Rule.from_transform(pattern)\n",
    "rule.inject_remove_edge(\"a\", \"c\")\n",
    "rule.inject_add_node(\"Crime_Division\")\n",
    "rule.inject_add_edge(\"Crime_Division\", \"c\", {\"type\": \"part_of\"})\n",
    "rule.inject_add_edge(\"a\", \"Crime_Division\")\n",
    "rule.inject_add_edge(\"b\", \"Crime_Division\")\n",
    "\n",
    "plot_rule(rule)"
   ]
  },
  {
   "cell_type": "markdown",
   "metadata": {},
   "source": [
    "We have created a rule that clones the node `a` and reconnects the edges between `a` and `b`."
   ]
  },
  {
   "cell_type": "code",
   "execution_count": 19,
   "metadata": {},
   "outputs": [
    {
     "name": "stdout",
     "output_type": "stream",
     "text": [
      "Instances:\n",
      "{'a': 'Eric', 'b': 'Sandra', 'c': 'UN'}\n"
     ]
    }
   ],
   "source": [
    "pattern_typing = {\n",
    "    \"a\": \"Person\",\n",
    "    \"b\":  \"Person\",\n",
    "    \"c\": \"International_Organization\"\n",
    "}\n",
    "instances = graph.find_data_matching(pattern, pattern_typing=pattern_typing)\n",
    "print(\"Instances:\")\n",
    "for instance in instances:\n",
    "    print(instance)"
   ]
  },
  {
   "cell_type": "markdown",
   "metadata": {},
   "source": [
    "We rewrite the graph `shapes` with the fixed instances (so, the node `circle` is cloned)."
   ]
  },
  {
   "cell_type": "code",
   "execution_count": 20,
   "metadata": {
    "scrolled": false
   },
   "outputs": [],
   "source": [
    "rhs_instance = graph.rewrite_data(rule, instance=instances[0])"
   ]
  },
  {
   "cell_type": "code",
   "execution_count": 21,
   "metadata": {},
   "outputs": [
    {
     "name": "stdout",
     "output_type": "stream",
     "text": [
      "RHS instance:  {'a': 'Eric', 'b': 'Sandra', 'c': 'UN', 'Crime_Division': 'Crime_Division'}\n"
     ]
    }
   ],
   "source": [
    "print(\"RHS instance: \", rhs_instance)"
   ]
  },
  {
   "cell_type": "markdown",
   "metadata": {},
   "source": [
    "To type the new node 'Crime_Division', we have created a new node in the schema."
   ]
  },
  {
   "cell_type": "code",
   "execution_count": 22,
   "metadata": {},
   "outputs": [],
   "source": [
    "schema_node = graph.get_node_type(rhs_instance[\"Crime_Division\"])\n",
    "graph.relabel_schema_node(schema_node, \"Division\")"
   ]
  },
  {
   "cell_type": "code",
   "execution_count": 23,
   "metadata": {},
   "outputs": [
    {
     "name": "stdout",
     "output_type": "stream",
     "text": [
      "Schema nodes:  ['Person', 'University', 'Country', 'International_Organization', 'Division']\n",
      "Schema edges:  [('Person', 'Division'), ('Person', 'International_Organization'), ('Person', 'University'), ('Person', 'Person'), ('University', 'International_Organization'), ('University', 'Country'), ('University', 'University'), ('International_Organization', 'University'), ('International_Organization', 'International_Organization'), ('International_Organization', 'Country'), ('Division', 'International_Organization')]\n"
     ]
    }
   ],
   "source": [
    "print(\"Schema nodes: \", graph.get_schema_nodes())\n",
    "print(\"Schema edges: \", graph.get_schema_edges())"
   ]
  },
  {
   "cell_type": "markdown",
   "metadata": {},
   "source": [
    "Now, let us consider an example of _backward propagation_. We will clone the node `Person` in the schema into a `Child` and `Adult`. We will determine which instances of `Person` are typed by `Child` or `Adult` by looking a the age attribute."
   ]
  },
  {
   "cell_type": "code",
   "execution_count": 24,
   "metadata": {},
   "outputs": [],
   "source": [
    "pattern = NXGraph()\n",
    "pattern.add_nodes_from([\"Person\"])\n",
    "pattern.add_edges_from([(\"Person\", \"Person\", {\"type\": {\"friend\", \"parent\", \"colleague\"}})])\n",
    "\n",
    "interface =  NXGraph()\n",
    "interface.add_nodes_from([\"Adult\", \"Child\"])\n",
    "interface.add_edges_from([\n",
    "    (\"Adult\", \"Adult\", {\"type\": {\"friend\", \"parent\", \"colleague\"}}),\n",
    "    (\"Child\", \"Child\", {\"type\": {\"friend\"}}),\n",
    "    (\"Adult\", \"Child\", {\"type\": {\"friend\", \"parent\"}}),\n",
    "    (\"Child\", \"Adult\", {\"type\": {\"friend\"}}),\n",
    "])\n",
    "\n",
    "rule = Rule(p=interface, lhs=pattern, p_lhs={\"Adult\": \"Person\", \"Child\": \"Person\"})"
   ]
  },
  {
   "cell_type": "markdown",
   "metadata": {},
   "source": [
    "Let us determine which instances of `Person` are typed by `Child` or `Adult` as follows."
   ]
  },
  {
   "cell_type": "code",
   "execution_count": 25,
   "metadata": {
    "scrolled": true
   },
   "outputs": [
    {
     "name": "stdout",
     "output_type": "stream",
     "text": [
      "Data typing:  {'Eric': 'Adult', 'Sandra': 'Adult', 'Alice': 'Child'}\n"
     ]
    }
   ],
   "source": [
    "data_typing = {}\n",
    "\n",
    "persons = graph.get_instances(\"Person\")\n",
    "for p in persons:\n",
    "    p_attrs = graph.get_data_node(p)\n",
    "    if \"age\" in p_attrs:\n",
    "        age = list(p_attrs[\"age\"])[0]\n",
    "        if age > 18:\n",
    "            data_typing[p] = \"Adult\"\n",
    "        else:\n",
    "            data_typing[p] = \"Child\"\n",
    "            \n",
    "print(\"Data typing: \", data_typing)"
   ]
  },
  {
   "cell_type": "code",
   "execution_count": 26,
   "metadata": {},
   "outputs": [
    {
     "name": "stdout",
     "output_type": "stream",
     "text": [
      "{'Adult': 'Person1', 'Child': 'Person'}\n"
     ]
    }
   ],
   "source": [
    "rhs_instance = graph.rewrite_schema(rule, data_typing=data_typing)\n",
    "print(rhs_instance)"
   ]
  },
  {
   "cell_type": "code",
   "execution_count": 27,
   "metadata": {},
   "outputs": [],
   "source": [
    "graph.relabel_schema_node(rhs_instance[\"Adult\"], \"Adult\")\n",
    "graph.relabel_schema_node(rhs_instance[\"Child\"], \"Child\")"
   ]
  },
  {
   "cell_type": "code",
   "execution_count": 28,
   "metadata": {},
   "outputs": [
    {
     "name": "stdout",
     "output_type": "stream",
     "text": [
      "Schema nodes:  ['Child', 'University', 'Country', 'International_Organization', 'Division', 'Adult']\n",
      "Schema edges: \n",
      "\t Child -> Adult\n",
      "\t Child -> Division\n",
      "\t Child -> International_Organization\n",
      "\t Child -> University\n",
      "\t Child -> Child\n",
      "\t University -> International_Organization\n",
      "\t University -> Country\n",
      "\t University -> University\n",
      "\t International_Organization -> University\n",
      "\t International_Organization -> International_Organization\n",
      "\t International_Organization -> Country\n",
      "\t Division -> International_Organization\n",
      "\t Adult -> Child\n",
      "\t Adult -> Division\n",
      "\t Adult -> Adult\n",
      "\t Adult -> University\n",
      "\t Adult -> International_Organization\n"
     ]
    }
   ],
   "source": [
    "print(\"Schema nodes: \", graph.get_schema_nodes())\n",
    "print(\"Schema edges: \")\n",
    "for s, t in graph.get_schema_edges():\n",
    "    print(\"\\t\", s, \"->\", t)"
   ]
  },
  {
   "cell_type": "code",
   "execution_count": 29,
   "metadata": {},
   "outputs": [
    {
     "name": "stdout",
     "output_type": "stream",
     "text": [
      "Data nodes:  ['Alice', 'Bob', 'Eric', 'Sandra', 'ENS Lyon', 'UN', 'INTERPOL', 'France', 'Crime_Division', 'Bob1']\n",
      "Data edges: \n",
      "\t Alice -> Bob1 {'type': {'friend'}}\n",
      "\t Alice -> Bob {'type': {'friend'}}\n",
      "\t Bob -> Alice {'type': {'friend'}}\n",
      "\t Eric -> Crime_Division {}\n",
      "\t Eric -> Sandra {'type': {'colleague'}}\n",
      "\t Eric -> Alice {'type': {'parent'}}\n",
      "\t Sandra -> Bob1 {'type': {'parent'}}\n",
      "\t Sandra -> Crime_Division {}\n",
      "\t Sandra -> Bob {'type': {'parent'}}\n",
      "\t Sandra -> Eric {'type': {'friend'}}\n",
      "\t INTERPOL -> France {'type': {'located_in'}}\n",
      "\t Crime_Division -> UN {'type': {'part_of'}}\n",
      "\t Bob1 -> Alice {'type': {'friend'}}\n"
     ]
    }
   ],
   "source": [
    "print(\"Data nodes: \", graph.get_data_nodes())\n",
    "print(\"Data edges: \")\n",
    "for s, t, attrs in graph.get_data_edges(data=True):\n",
    "    print(\"\\t\", s, \"->\", t, attrs)"
   ]
  },
  {
   "cell_type": "markdown",
   "metadata": {},
   "source": [
    "Observe that we have cloned the node `Bob` into two nodes `Bob` and `Bob1`, one being an instance of `Adult` and another of `Child`."
   ]
  },
  {
   "cell_type": "code",
   "execution_count": 30,
   "metadata": {},
   "outputs": [
    {
     "name": "stdout",
     "output_type": "stream",
     "text": [
      "{\n",
      "  \"Alice\": \"Child\",\n",
      "  \"Bob1\": \"Child\",\n",
      "  \"ENS Lyon\": \"University\",\n",
      "  \"France\": \"Country\",\n",
      "  \"UN\": \"International_Organization\",\n",
      "  \"INTERPOL\": \"International_Organization\",\n",
      "  \"Crime_Division\": \"Division\",\n",
      "  \"Eric\": \"Adult\",\n",
      "  \"Bob\": \"Adult\",\n",
      "  \"Sandra\": \"Adult\"\n",
      "}\n"
     ]
    }
   ],
   "source": [
    "print(json.dumps(graph.get_data_typing(), indent=\"  \"))"
   ]
  }
 ],
 "metadata": {
  "anaconda-cloud": {},
  "kernelspec": {
   "display_name": "Python 3",
   "language": "python",
   "name": "python3"
  },
  "language_info": {
   "codemirror_mode": {
    "name": "ipython",
    "version": 3
   },
   "file_extension": ".py",
   "mimetype": "text/x-python",
   "name": "python",
   "nbconvert_exporter": "python",
   "pygments_lexer": "ipython3",
   "version": "3.7.4"
  }
 },
 "nbformat": 4,
 "nbformat_minor": 1
}
